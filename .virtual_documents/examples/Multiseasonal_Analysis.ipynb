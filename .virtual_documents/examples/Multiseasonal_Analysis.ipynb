import pandas as pd
import numpy as np

import matplotlib.pyplot as plt
import seaborn as sns

import warnings
warnings.filterwarnings('ignore')


df = pd.read_csv('D:/PyCharmProjects/GRES/data.csv')
df.head()


df.info()


df['Date'] = pd.to_datetime(df['Date'])
df = df.set_index('Date')
df = df.resample('D').mean()
df.info()





target = 'TurbinePowerSum'

features = [
    'StationTempOutdoorAir',
    'TurbineTempFeedSteamQ2',
    'StationCoalHumidity',
    'StationCoalAsh',
    'StationConsumpNaturalFuel',
    'Year',
    'Season',
]


train_sm = df.loc[df.index < '2015-01-01']
test_sm = df.loc[df.index >= '2015-01-01']
X_train = train_sm[features]
X_test = test_sm[features]
y_train = train_sm[target]
y_test = test_sm[target]


import statsmodels.api as sm

sarimax_results = pd.DataFrame()

for p in range(3):
    for d in range(3):
        for q in range(3):
            mod = sm.tsa.statespace.SARIMAX(
                endog = y_train,
                exog = X_train,
                trend='c',
                order=(p,d,q),
                freq = 'D'
            )

            res = mod.fit(disp=False)
            model_results = pd.DataFrame(
                {
                    'p'   : p,
                    'd'   : d,
                    'q'   : q,
                    'AIC' : res.aic,
                    'BIC' : res.bic,
                    'HQIC': res.hqic,
                },
                index = [0]
            )
            sarimax_results = pd.concat([sarimax_results, model_results])


sarimax_results


import statsmodels.api as sm

mod = sm.tsa.statespace.SARIMAX(
    endog = train_sm[target],
    exog = train_sm[features],
    trend='c',
    order=(0,0,0),
    freq = 'D'
)

res = mod.fit(disp=False)
print(res.summary())


pred_sm = res.forecast(test_sm.shape[0], exog = test_sm[features])


fig, ax = plt.subplots(figsize = (15,5))
ax.plot(train_sm[target])
ax.plot(test_sm[target])
ax.plot(pred_sm)
plt.show()


from sklearn.metrics import r2_score, mean_absolute_error, mean_squared_error, mean_absolute_percentage_error
print('R2 score:', r2_score(test_sm[target], pred_sm))
print('MAE score:', mean_absolute_error(test_sm[target], pred_sm))
print('MSE score:', mean_squared_error(test_sm[target], pred_sm))
print('RMSE score:', np.sqrt(mean_squared_error(test_sm[target], pred_sm)))
print('MAPE score:', mean_absolute_percentage_error(test_sm[target], pred_sm))


fig, ax = plt.subplots(figsize=(12,6),dpi=100);
plt.scatter(test_sm[target], pred_sm, label="Actual vs Predicted")
# Perfect predictions
plt.xlabel('Summary Power, MW')
plt.ylabel('Summary Power, MW')
plt.title('Expection vs Prediction')
plt.plot(test_sm[target], test_sm[target], 'r', label="Perfect Expected Prediction")
plt.legend()





import statsmodels.api as sm

mod = sm.tsa.statespace.SARIMAX(
    endog = df[target],
    exog = df[features],
    trend='c',
    order=(0,0,0),
    #seasonal_order = (1, 0, 1, 8760),
    freq = 'D'
)

res = mod.fit(disp=False)
print(res.summary())


pred_sm = res.forecast(df.shape[0], exog = df[features])


from sklearn.metrics import r2_score, mean_absolute_error, mean_squared_error, mean_absolute_percentage_error
print('R2 score:', r2_score(df[target], pred_sm))
print('MAE score:', mean_absolute_error(df[target], pred_sm))
print('MSE score:', mean_squared_error(df[target], pred_sm))
print('RMSE score:', np.sqrt(mean_squared_error(df[target], pred_sm)))
print('MAPE score:', mean_absolute_percentage_error(df[target], pred_sm))


fig, ax = plt.subplots(figsize=(12,6),dpi=100);
plt.scatter(df[target], pred_sm, label="Actual vs Predicted")
# Perfect predictions
plt.xlabel('Summary Power, MW')
plt.ylabel('Summary Power, MW')
plt.title('Expection vs Prediction')
plt.plot(df[target],df[target],'r', label="Perfect Expected Prediction")
plt.legend()


result = sm.tsa.seasonal_decompose(df[target].resample("M").mean(), model = 'additive')
trend = result.trend.dropna()
seasonal = result.seasonal.dropna()
residual = result.resid.dropna()

# Plot the decomposed components
plt.figure(figsize=(6,6))

plt.subplot(4, 1, 1)
plt.plot(df[target], label='Original Series')
plt.legend()

plt.subplot(4, 1, 2)
plt.plot(trend, label='Trend')
plt.legend()

plt.subplot(4, 1, 3)
plt.plot(seasonal, label='Seasonal')
plt.legend()

plt.subplot(4, 1, 4)
plt.plot(residual, label='Residuals')
plt.legend()

plt.tight_layout()
plt.show()





def add_time_features(data):
    data = data.copy()
    data['Month'] = data.index.month
    data['Day'] = data.index.day
    data['DayOfYear'] = data.index.dayofyear
    return data
df = add_time_features(df)


df.info()


df = df.sort_index()


cat_features = ['Year', 'Season', 'Month', 'DayOfYear', 'Day', 'DayOfWeek']
df[cat_features] = df[cat_features].astype('int')


target = 'TurbinePowerSum'

features = [
    'StationTempOutdoorAir',
    'TurbineTempFeedSteamQ2',
    'StationCoalHumidity',
    'StationCoalAsh',
    'StationConsumpNaturalFuel',
    'Year',
    'Season',
    'Month',
    'DayOfYear',
    'Day',
    'DayOfWeek'
]


train_cb = df.loc[df.index<'2015-01-01']
test_cb = df.loc[df.index>='2015-01-01']

X_train = train_cb[features]
y_train = train_cb[target]

X_test = test_cb[features]
y_test = test_cb[target]


df.info()


from catboost import CatBoostRegressor

model = CatBoostRegressor(
    iterations=1000,
    learning_rate=0.1,
    depth=6,
    loss_function='RMSE',
    random_seed=42,
    early_stopping_rounds=50,
    task_type='CPU'
)

model.fit(
    X_train, y_train,
    eval_set=(X_test, y_test),
    cat_features=cat_features,
    verbose=100
)


print(model.get_params())
print(model.get_feature_importance())


pred_cb = pd.Series(data = model.predict(data = X_test), index = X_test.index)


fig, ax = plt.subplots(figsize = (15,5))
ax.plot(y_train)
ax.plot(y_test)
ax.plot(pred_cb)
plt.show()


from sklearn.metrics import r2_score, mean_absolute_error, mean_squared_error, mean_absolute_percentage_error
print('R2 score:', r2_score(y_test, pred_cb))
print('MAE score:', mean_absolute_error(y_test, pred_cb))
print('MSE score:', mean_squared_error(y_test, pred_cb))
print('RMSE score:', np.sqrt(mean_squared_error(y_test, pred_cb)))
print('MAPE score:', mean_absolute_percentage_error(y_test, pred_cb))


fig, ax = plt.subplots(figsize=(12,6),dpi=100);
plt.scatter(y_test, pred_cb, label="Actual vs Predicted")
# Perfect predictions
plt.xlabel('Summary Power, MW')
plt.ylabel('Summary Power, MW')
plt.title('Expection vs Prediction')
plt.plot(y_test,y_test,'r', label="Perfect Expected Prediction")
plt.legend()


plt.figure(figsize=(15, 5))

plt.plot(pred_sm, label='SARIMAX', linewidth=2)
plt.plot(pred_cb, label='CatBoost', linewidth=2)
plt.plot(y_test, label='Истинные значения', linestyle='--', linewidth=2)

plt.title('Сравнение предсказаний SARIMAX и CatBoost', fontsize=14)
plt.ylabel('Выходная мощность, МВт', fontsize=12)
plt.legend()
plt.grid(True, linestyle='--', alpha=0.7)

plt.tight_layout()
plt.show()



